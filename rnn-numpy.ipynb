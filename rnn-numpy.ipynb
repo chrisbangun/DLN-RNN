{
 "cells": [
  {
   "cell_type": "code",
   "execution_count": 1,
   "metadata": {},
   "outputs": [
    {
     "name": "stderr",
     "output_type": "stream",
     "text": [
      "Using TensorFlow backend.\n"
     ]
    }
   ],
   "source": [
    "import nltk\n",
    "import numpy as np\n",
    "import csv\n",
    "import itertools\n",
    "import gensim"
   ]
  },
  {
   "cell_type": "code",
   "execution_count": 2,
   "metadata": {},
   "outputs": [],
   "source": [
    "vocab_size = 8000\n",
    "unk_token = \"UNK\"\n",
    "start_token = \"SENT_START\"\n",
    "end_token = \"SENT_END\"\n",
    "\n",
    "with open(\"reddit.csv\", \"rt\") as f:\n",
    "    reader = csv.reader(f)\n",
    "    next(reader)\n",
    "    sentences = itertools.chain(*[nltk.sent_tokenize(x[0].lower()) for x in reader])\n",
    "    sentences = [\"%s %s %s\" % (start_token, x, end_token) for x in sentences]\n",
    "    \n",
    "tokenized_sentences = [nltk.word_tokenize(sent) for sent in sentences]\n",
    "word_freq = nltk.FreqDist(itertools.chain(*tokenized_sentences))\n",
    "\n",
    "vocab = word_freq.most_common(vocab_size - 1)\n",
    "itow = [x[0] for x in vocab] + [unk_token]\n",
    "woti = dict([(w, i) for i, w in enumerate(itow)])\n",
    "\n",
    "for i, sent in enumerate(tokenized_sentences):\n",
    "    tokenized_sentences[i] = [w if w in woti else unk_token for w in sent]\n",
    "    \n",
    "# X_train = np.asarray([[woti[w] for w in sent[: -1]] for sent in tokenized_sentences])\n",
    "# y_train = np.asarray([[woti[w] for w in sent[1:]] for sent in tokenized_sentences])\n",
    "\n",
    "X_train = np.asarray([[w for w in sent[: -1]] for sent in tokenized_sentences])\n",
    "y_train = np.asarray([[w for w in sent[1:]] for sent in tokenized_sentences])"
   ]
  },
  {
   "cell_type": "code",
   "execution_count": 3,
   "metadata": {},
   "outputs": [
    {
     "data": {
      "text/plain": [
       "array([list(['SENT_START', 'super', '!', '!']),\n",
       "       list(['SENT_START', \"c'est\", 'UNK', 'bien', 'que', 'tu', 'ai', 'tout', 'UNK', ':', ')', 'UNK', 'UNK', 'usage', '!']),\n",
       "       list(['SENT_START', 'get', 'one', 'of', 'the', 'cheap', 'mustang', 'UNK', '.']),\n",
       "       list(['SENT_START', 'you', 'do', \"n't\", 'need', 'anything', 'expensive', '.']),\n",
       "       list(['SENT_START', 'and', 'the', 'mustang', 'is', 'a', 'UNK', 'little', 'ship', 'that', 'packs', 'a', 'punch', '.']),\n",
       "       list(['SENT_START', 'they', 'just', 'got', 'UNK', 'with', 'UNK']),\n",
       "       list(['SENT_START', 'that', \"'s\", 'the', 'joke']),\n",
       "       list(['SENT_START', 'lol', 'so', 'its', 'better', 'to', 'have', 'a', 'team', 'that', 'maybe', 'qualifies', 'into', 'lcs', '(', 'and', 'if', 'it', 'was', \"n't\", 'for', 'the', 'stupid', 'rito', 'rules', 'they', 'would', \"n't\", 'have', 'a', 'chance', ')', 'than', 'one', 'that', 'is', 'UNK', 'in', 'a', 'region', '?']),\n",
       "       list(['SENT_START', 'it', 'was', 'meant', 'to', 'be', 'the', 'team', '.']),\n",
       "       list(['SENT_START', 'no', 'native', 'english', 'here', ',', 'so', 'it', 'may', 'not', 'sound', 'what', 'i', 'meant', '.'])], dtype=object)"
      ]
     },
     "execution_count": 3,
     "metadata": {},
     "output_type": "execute_result"
    }
   ],
   "source": [
    "X_train[:10]"
   ]
  },
  {
   "cell_type": "code",
   "execution_count": 4,
   "metadata": {},
   "outputs": [],
   "source": [
    "model = gensim.models.Word2Vec(tokenized_sentences, size=300, window=5, min_count=5, workers=4)"
   ]
  },
  {
   "cell_type": "code",
   "execution_count": 5,
   "metadata": {},
   "outputs": [],
   "source": [
    "class VanillaRNNCell(object):\n",
    "    def __init__(self, input_size, hidden_size, vocab_size=None):\n",
    "        self.vocab_size = vocab_size\n",
    "        self.hidden_size = hidden_size\n",
    "        self.W = np.random.uniform(-1/np.sqrt(hidden_size), -1/np.sqrt(input_size), (hidden_size, input_size))\n",
    "        self.U = np.random.uniform(-1/np.sqrt(hidden_size), -1/np.sqrt(hidden_size), (hidden_size, hidden_size))\n",
    "        if vocab_size:\n",
    "            self.V = np.random.uniform(-1/np.sqrt(vocab_size), -1/np.sqrt(hidden_size), (vocab_size, hidden_size))\n",
    "        self.state_bias = np.ones(hidden_size)\n",
    "\n",
    "    def __call__(self, state, X):\n",
    "        if not isinstance(X, np.ndarray):\n",
    "            raise TypeError(\"X must be a np.array\")\n",
    "        if not isinstance(state, np.ndarray):\n",
    "            raise TypeError(\"state must be a np.array\")\n",
    "            \n",
    "        state = np.tanh(self.W.dot(X.T).T + self.U.dot(state.T).T + self.state_bias)\n",
    "        if self.vocab_size:\n",
    "            output = self.V.dot(state.T).T\n",
    "        else:\n",
    "            output = state\n",
    "            \n",
    "        return (state, output)"
   ]
  },
  {
   "cell_type": "code",
   "execution_count": 6,
   "metadata": {},
   "outputs": [],
   "source": [
    "def static_rnn(X, rnn_cell, time_major=True):\n",
    "    # X shape should be [batch, steps, word_dim]\n",
    "    if len(X.shape) < 3:\n",
    "        raise ValueError(\"Input must be in shape [batch, steps, ...]\")\n",
    "        \n",
    "    steps = X.shape[1]\n",
    "    batch_size = X.shape[0]\n",
    "    state = np.zeros(rnn_cell.hidden_size)\n",
    "    states = np.empty((steps, batch_size, rnn_cell.hidden_size))\n",
    "    if rnn_cell.vocab_size: \n",
    "        outputs = np.empty((steps, batch_size, rnn_cell.vocab_size))\n",
    "    else:\n",
    "        outputs = np.empty((steps, batch_size, rnn_cell.hidden_size))\n",
    "\n",
    "    if time_major:\n",
    "        X = np.transpose(X, (1, 0, 2))\n",
    "\n",
    "    for i, step in enumerate(X):\n",
    "        state, out = rnn_cell(state, step)\n",
    "        outputs[i] = out\n",
    "        states[i] = state\n",
    "        \n",
    "    return (states, outputs)"
   ]
  },
  {
   "cell_type": "code",
   "execution_count": 7,
   "metadata": {},
   "outputs": [],
   "source": [
    "rnn_cell = VanillaRNNCell(300, 128, vocab_size)\n",
    "# state, outputs = static_rnn(np.random.normal(size=(2, 5, 300)), rnn_cell)\n",
    "# print(state.shape)\n",
    "# print(outputs.shape)"
   ]
  },
  {
   "cell_type": "code",
   "execution_count": 8,
   "metadata": {},
   "outputs": [],
   "source": [
    "def softmax(logits):\n",
    "    return np.exp(logits) / np.sum(np.exp(logits), axis=1)[:, np.newaxis]\n",
    "    \n",
    "def one_hot(data, depth):    \n",
    "    one_hot_labels = np.zeros((data.shape[0], depth))\n",
    "    one_hot_labels[np.arange(data.shape[0]), data] = 1\n",
    "    return one_hot_labels\n",
    "\n",
    "def softmax_cross_entropy_with_logits(logits, labels):\n",
    "    logits_shape = logits.shape\n",
    "    labels_shape = labels.shape\n",
    "    \n",
    "    if logits_shape[0] != labels_shape[0]:\n",
    "        raise ValueError(\"logits and labels must have the same first dimension shape. \" +\n",
    "                         \"logits = %s, labels = %s\", logits_shape[0], labels_shape[0])\n",
    "    if len(logits_shape) != 3:\n",
    "        raise ValueError(\"logits must be in shape [batch, steps, ...]\")\n",
    "    if len(labels_shape) != 2:\n",
    "        raise ValueError(\"labels must be in shape [batch, steps]\")\n",
    "        \n",
    "    step_size = labels_shape[1]\n",
    "    batch_size = labels_shape[0]\n",
    "    loss = np.zeros(batch_size)\n",
    "    \n",
    "    for i in range(step_size):\n",
    "        logits_step = logits[:, i]\n",
    "        labels_step = labels[:, i]\n",
    "        one_hot_labels = one_hot(labels_step, vocab_size)\n",
    "        softmax_layer = softmax(logits_step)\n",
    "        correct_word_probability = softmax_layer * one_hot_labels\n",
    "        loss += np.log(np.sum(correct_word_probability, axis=1))\n",
    "        \n",
    "    loss = (-1 * loss) / (batch_size * step_size)\n",
    "    return loss"
   ]
  },
  {
   "cell_type": "code",
   "execution_count": 9,
   "metadata": {
    "scrolled": true
   },
   "outputs": [],
   "source": [
    "# outputs = np.transpose(outputs, (1, 0, 2))\n",
    "# softmax_cross_entropy_with_logits(outputs, np.random.randint(low=0, high=vocab_size, size=(2, 5)))"
   ]
  },
  {
   "cell_type": "code",
   "execution_count": 29,
   "metadata": {},
   "outputs": [],
   "source": [
    "def bptt(cell, x, y):\n",
    "    states, outputs = static_rnn(x, cell)\n",
    "    outputs = softmax(outputs)\n",
    "    outputs = np.transpose(outputs, (1, 0, 2))\n",
    "#     states = np.transpose(states, (1, 0, 2))\n",
    "    \n",
    "    batch_size = y.shape[0]\n",
    "    step_size = y.shape[1]\n",
    "    dLdV = np.zeros((8000, 128))\n",
    "    dLdU = np.zeros((128, 128))\n",
    "    dLdW = np.zeros((128, 8000))\n",
    "\n",
    "    for i in reversed(range(step_size)):\n",
    "        logits_step = outputs[:, i]\n",
    "        labels_step = y[:, i]\n",
    "        one_hot_labels = one_hot(labels_step, vocab_size)\n",
    "        delta_o = logits_step - one_hot_labels\n",
    "        \n",
    "        temp_dLdV = np.einsum(\"ij,ik->jik\", delta_o, states[i]).transpose(1, 0, 2)\n",
    "        dLdV += np.sum(temp_dLdV, axis=0)\n",
    "        \n",
    "        for j in reversed(range(i)):\n",
    "            \n",
    "    return (dLdV, dLdU, dLdW)"
   ]
  },
  {
   "cell_type": "code",
   "execution_count": 30,
   "metadata": {},
   "outputs": [
    {
     "name": "stdout",
     "output_type": "stream",
     "text": [
      "(2, 8000) (2, 128)\n",
      "(2, 8000, 128)\n"
     ]
    }
   ],
   "source": [
    "bptt(rnn_cell, \n",
    "     np.random.normal(size=(2, 5, 300)),\n",
    "     np.random.randint(low=0, high=vocab_size, size=(2, 5)))"
   ]
  },
  {
   "cell_type": "code",
   "execution_count": 24,
   "metadata": {},
   "outputs": [
    {
     "name": "stdout",
     "output_type": "stream",
     "text": [
      "[[1 5 8 5 2]\n",
      " [5 0 6 0 8]]\n",
      "[[0 8 6 2 0 6 8 7 5 0]\n",
      " [1 8 0 2 3 8 9 7 5 9]]\n",
      "(10, 20)\n",
      "[[[ 0  8  6  2  0  6  8  7  5  0]\n",
      "  [ 5 40  0 10 15 40 45 35 25 45]]\n",
      "\n",
      " [[ 0 40 30 10  0 30 40 35 25  0]\n",
      "  [ 0  0  0  0  0  0  0  0  0  0]]\n",
      "\n",
      " [[ 0 64 48 16  0 48 64 56 40  0]\n",
      "  [ 6 48  0 12 18 48 54 42 30 54]]\n",
      "\n",
      " [[ 0 40 30 10  0 30 40 35 25  0]\n",
      "  [ 0  0  0  0  0  0  0  0  0  0]]\n",
      "\n",
      " [[ 0 16 12  4  0 12 16 14 10  0]\n",
      "  [ 8 64  0 16 24 64 72 56 40 72]]]\n",
      "[[[ 0  8  6  2  0  6  8  7  5  0]\n",
      "  [ 0 40 30 10  0 30 40 35 25  0]\n",
      "  [ 0 64 48 16  0 48 64 56 40  0]\n",
      "  [ 0 40 30 10  0 30 40 35 25  0]\n",
      "  [ 0 16 12  4  0 12 16 14 10  0]]\n",
      "\n",
      " [[ 5 40  0 10 15 40 45 35 25 45]\n",
      "  [ 0  0  0  0  0  0  0  0  0  0]\n",
      "  [ 6 48  0 12 18 48 54 42 30 54]\n",
      "  [ 0  0  0  0  0  0  0  0  0  0]\n",
      "  [ 8 64  0 16 24 64 72 56 40 72]]]\n",
      "[[  5  48   6  12  15  46  53  42  30  45]\n",
      " [  0  40  30  10   0  30  40  35  25   0]\n",
      " [  6 112  48  28  18  96 118  98  70  54]\n",
      " [  0  40  30  10   0  30  40  35  25   0]\n",
      " [  8  80  12  20  24  76  88  70  50  72]]\n"
     ]
    }
   ],
   "source": [
    "test = np.random.randint(low=0, high=10, size=(2, 5))\n",
    "test1 = np.random.randint(low=0, high=10, size=(2, 10))\n",
    "print(test)\n",
    "print(test1)\n",
    "# print(np.outer(test, test1).reshape(2, 5, 10))\n",
    "print(np.outer(test, test1).shape)\n",
    "print(np.einsum(\"ij,ik->jik\", test, test1))\n",
    "print(np.einsum(\"ij,ik->jik\", test, test1).transpose(1, 0, 2))\n",
    "print(np.sum(np.einsum(\"ij,ik->jik\", test, test1).transpose(1, 0, 2), axis=0))\n",
    "# print(test[:]*test1)\n",
    "# print(np.einsum(\"ij,ji\", test, test1).shape)\n",
    "# print(test)\n",
    "# print(np.outer(5, test))\n",
    "# print(test * 5)\n",
    "# print(5 * test)\n",
    "# print(np.outer(test, 5))"
   ]
  },
  {
   "cell_type": "code",
   "execution_count": 35,
   "metadata": {},
   "outputs": [
    {
     "data": {
      "text/plain": [
       "[9, 8, 7, 6, 5, 4, 3, 2, 1, 0]"
      ]
     },
     "execution_count": 35,
     "metadata": {},
     "output_type": "execute_result"
    }
   ],
   "source": [
    "list(reversed(range(10)))"
   ]
  },
  {
   "cell_type": "code",
   "execution_count": 198,
   "metadata": {},
   "outputs": [
    {
     "ename": "NameError",
     "evalue": "name 'labels' is not defined",
     "output_type": "error",
     "traceback": [
      "\u001b[0;31m---------------------------------------------------------------------------\u001b[0m",
      "\u001b[0;31mNameError\u001b[0m                                 Traceback (most recent call last)",
      "\u001b[0;32m<ipython-input-198-22b27eefc195>\u001b[0m in \u001b[0;36m<module>\u001b[0;34m()\u001b[0m\n\u001b[0;32m----> 1\u001b[0;31m \u001b[0mlabels\u001b[0m\u001b[0;34m[\u001b[0m\u001b[0mnp\u001b[0m\u001b[0;34m.\u001b[0m\u001b[0marange\u001b[0m\u001b[0;34m(\u001b[0m\u001b[0mlen\u001b[0m\u001b[0;34m(\u001b[0m\u001b[0mlabels\u001b[0m\u001b[0;34m)\u001b[0m\u001b[0;34m)\u001b[0m\u001b[0;34m]\u001b[0m\u001b[0;34m\u001b[0m\u001b[0m\n\u001b[0m",
      "\u001b[0;31mNameError\u001b[0m: name 'labels' is not defined"
     ]
    }
   ],
   "source": [
    "labels[np.arange(len(labels))]"
   ]
  },
  {
   "cell_type": "code",
   "execution_count": null,
   "metadata": {},
   "outputs": [],
   "source": []
  }
 ],
 "metadata": {
  "kernelspec": {
   "display_name": "Python 3",
   "language": "python",
   "name": "python3"
  },
  "language_info": {
   "codemirror_mode": {
    "name": "ipython",
    "version": 3
   },
   "file_extension": ".py",
   "mimetype": "text/x-python",
   "name": "python",
   "nbconvert_exporter": "python",
   "pygments_lexer": "ipython3",
   "version": "3.6.2"
  }
 },
 "nbformat": 4,
 "nbformat_minor": 2
}
