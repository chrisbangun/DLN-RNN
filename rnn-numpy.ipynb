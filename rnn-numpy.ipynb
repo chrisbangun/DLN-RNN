{
 "cells": [
  {
   "cell_type": "code",
   "execution_count": 1,
   "metadata": {},
   "outputs": [],
   "source": [
    "import nltk\n",
    "import numpy as np\n",
    "import csv\n",
    "import itertools\n",
    "import gensim"
   ]
  },
  {
   "cell_type": "code",
   "execution_count": 3,
   "metadata": {},
   "outputs": [],
   "source": [
    "vocab_size = 8000\n",
    "unk_token = \"UNK\"\n",
    "start_token = \"SENT_START\"\n",
    "end_token = \"SENT_END\"\n",
    "\n",
    "with open(\"reddit.csv\", \"rt\") as f:\n",
    "    reader = csv.reader(f)\n",
    "    next(reader)\n",
    "    sentences = itertools.chain(*[nltk.sent_tokenize(x[0].lower()) for x in reader])\n",
    "    sentences = [\"%s %s %s\" % (start_token, x, end_token) for x in sentences]\n",
    "    \n",
    "tokenized_sentences = [nltk.word_tokenize(sent) for sent in sentences]\n",
    "word_freq = nltk.FreqDist(itertools.chain(*tokenized_sentences))\n",
    "\n",
    "vocab = word_freq.most_common(vocab_size - 1)\n",
    "itow = [x[0] for x in vocab] + [unk_token]\n",
    "woti = dict([(w, i) for i, w in enumerate(itow)])\n",
    "\n",
    "for i, sent in enumerate(tokenized_sentences):\n",
    "    tokenized_sentences[i] = [w if w in woti else unk_token for w in sent]\n",
    "    \n",
    "# X_train = np.asarray([[woti[w] for w in sent[: -1]] for sent in tokenized_sentences])\n",
    "# y_train = np.asarray([[woti[w] for w in sent[1:]] for sent in tokenized_sentences])\n",
    "\n",
    "X_train = np.asarray([[w for w in sent[: -1]] for sent in tokenized_sentences])\n",
    "y_train = np.asarray([[w for w in sent[1:]] for sent in tokenized_sentences])"
   ]
  },
  {
   "cell_type": "code",
   "execution_count": 4,
   "metadata": {},
   "outputs": [
    {
     "data": {
      "text/plain": [
       "array([list(['SENT_START', 'super', '!', '!']),\n",
       "       list(['SENT_START', \"c'est\", 'UNK', 'bien', 'que', 'tu', 'ai', 'tout', 'UNK', ':', ')', 'UNK', 'UNK', 'usage', '!']),\n",
       "       list(['SENT_START', 'get', 'one', 'of', 'the', 'cheap', 'mustang', 'UNK', '.']),\n",
       "       list(['SENT_START', 'you', 'do', \"n't\", 'need', 'anything', 'expensive', '.']),\n",
       "       list(['SENT_START', 'and', 'the', 'mustang', 'is', 'a', 'UNK', 'little', 'ship', 'that', 'packs', 'a', 'punch', '.']),\n",
       "       list(['SENT_START', 'they', 'just', 'got', 'UNK', 'with', 'UNK']),\n",
       "       list(['SENT_START', 'that', \"'s\", 'the', 'joke']),\n",
       "       list(['SENT_START', 'lol', 'so', 'its', 'better', 'to', 'have', 'a', 'team', 'that', 'maybe', 'qualifies', 'into', 'lcs', '(', 'and', 'if', 'it', 'was', \"n't\", 'for', 'the', 'stupid', 'rito', 'rules', 'they', 'would', \"n't\", 'have', 'a', 'chance', ')', 'than', 'one', 'that', 'is', 'UNK', 'in', 'a', 'region', '?']),\n",
       "       list(['SENT_START', 'it', 'was', 'meant', 'to', 'be', 'the', 'team', '.']),\n",
       "       list(['SENT_START', 'no', 'native', 'english', 'here', ',', 'so', 'it', 'may', 'not', 'sound', 'what', 'i', 'meant', '.'])], dtype=object)"
      ]
     },
     "execution_count": 4,
     "metadata": {},
     "output_type": "execute_result"
    }
   ],
   "source": [
    "X_train[:10]"
   ]
  },
  {
   "cell_type": "code",
   "execution_count": 5,
   "metadata": {},
   "outputs": [],
   "source": [
    "model = gensim.models.Word2Vec(tokenized_sentences, size=300, window=5, min_count=5, workers=4)"
   ]
  },
  {
   "cell_type": "code",
   "execution_count": 6,
   "metadata": {},
   "outputs": [],
   "source": [
    "class VanillaRNNCell(object):\n",
    "    def __init__(self, input_size, hidden_size, vocab_size=None):\n",
    "        self.vocab_size = vocab_size\n",
    "        self.hidden_size = hidden_size\n",
    "        self.W = np.random.uniform(-1/np.sqrt(hidden_size), -1/np.sqrt(input_size), (hidden_size, input_size))\n",
    "        self.U = np.random.uniform(-1/np.sqrt(hidden_size), -1/np.sqrt(hidden_size), (hidden_size, hidden_size))\n",
    "        if vocab_size:\n",
    "            self.V = np.random.uniform(-1/np.sqrt(vocab_size), -1/np.sqrt(hidden_size), (vocab_size, hidden_size))\n",
    "        self.state_bias = np.ones(hidden_size)\n",
    "\n",
    "    def __call__(self, state, X):\n",
    "        if not isinstance(X, np.ndarray):\n",
    "            raise TypeError(\"X must be a np.array\")\n",
    "        if not isinstance(state, np.ndarray):\n",
    "            raise TypeError(\"state must be a np.array\")\n",
    "            \n",
    "        state = np.tanh(self.W.dot(X.T).T + self.U.dot(state.T).T + self.state_bias)\n",
    "        if self.vocab_size:\n",
    "            output = self.V.dot(state.T).T\n",
    "        else:\n",
    "            output = state\n",
    "            \n",
    "        return (state, output)"
   ]
  },
  {
   "cell_type": "code",
   "execution_count": 7,
   "metadata": {},
   "outputs": [],
   "source": [
    "def static_rnn(X, rnn_cell, time_major=True):\n",
    "    # X shape should be [batch, steps, word_dim]\n",
    "    if len(X.shape) < 3:\n",
    "        raise ValueError(\"Input must be in shape [batch, steps, ...]\")\n",
    "        \n",
    "    steps = X.shape[1]\n",
    "    batch_size = X.shape[0]\n",
    "    state = np.zeros(rnn_cell.hidden_size)\n",
    "    states = np.empty((steps, batch_size, rnn_cell.hidden_size))\n",
    "    if rnn_cell.vocab_size: \n",
    "        outputs = np.empty((steps, batch_size, rnn_cell.vocab_size))\n",
    "    else:\n",
    "        outputs = np.empty((steps, batch_size, rnn_cell.hidden_size))\n",
    "\n",
    "    if time_major:\n",
    "        X = np.transpose(X, (1, 0, 2))\n",
    "\n",
    "    for i, step in enumerate(X):\n",
    "        state, out = rnn_cell(state, step)\n",
    "        outputs[i] = out\n",
    "        states[i] = state\n",
    "        \n",
    "    return (states, outputs)"
   ]
  },
  {
   "cell_type": "code",
   "execution_count": 8,
   "metadata": {},
   "outputs": [],
   "source": [
    "rnn_cell = VanillaRNNCell(300, 128, vocab_size)\n",
    "# state, outputs = static_rnn(np.random.normal(size=(2, 5, 300)), rnn_cell)\n",
    "# print(state.shape)\n",
    "# print(outputs.shape)"
   ]
  },
  {
   "cell_type": "code",
   "execution_count": 9,
   "metadata": {},
   "outputs": [],
   "source": [
    "def softmax(logits):\n",
    "    return np.exp(logits) / np.sum(np.exp(logits), axis=1)[:, np.newaxis]\n",
    "    \n",
    "def one_hot(data, depth):    \n",
    "    one_hot_labels = np.zeros((data.shape[0], depth))\n",
    "    one_hot_labels[np.arange(data.shape[0]), data] = 1\n",
    "    return one_hot_labels\n",
    "\n",
    "def softmax_cross_entropy_with_logits(logits, labels):\n",
    "    logits_shape = logits.shape\n",
    "    labels_shape = labels.shape\n",
    "    \n",
    "    if logits_shape[0] != labels_shape[0]:\n",
    "        raise ValueError(\"logits and labels must have the same first dimension shape. \" +\n",
    "                         \"logits = %s, labels = %s\", logits_shape[0], labels_shape[0])\n",
    "    if len(logits_shape) != 3:\n",
    "        raise ValueError(\"logits must be in shape [batch, steps, ...]\")\n",
    "    if len(labels_shape) != 2:\n",
    "        raise ValueError(\"labels must be in shape [batch, steps]\")\n",
    "        \n",
    "    step_size = labels_shape[1]\n",
    "    batch_size = labels_shape[0]\n",
    "    loss = np.zeros(batch_size)\n",
    "    \n",
    "    for i in range(step_size):\n",
    "        logits_step = logits[:, i]\n",
    "        labels_step = labels[:, i]\n",
    "        one_hot_labels = one_hot(labels_step, vocab_size)\n",
    "        softmax_layer = softmax(logits_step)\n",
    "        correct_word_probability = softmax_layer * one_hot_labels\n",
    "        loss += np.log(np.sum(correct_word_probability, axis=1))\n",
    "        \n",
    "    loss = (-1 * loss) / (batch_size * step_size)\n",
    "    return loss"
   ]
  },
  {
   "cell_type": "code",
   "execution_count": 10,
   "metadata": {
    "scrolled": true
   },
   "outputs": [],
   "source": [
    "# outputs = np.transpose(outputs, (1, 0, 2))\n",
    "# softmax_cross_entropy_with_logits(outputs, np.random.randint(low=0, high=vocab_size, size=(2, 5)))"
   ]
  },
  {
   "cell_type": "code",
   "execution_count": 68,
   "metadata": {},
   "outputs": [],
   "source": [
    "def extended_np_outer(a, b, transposed=True):\n",
    "    res = np.einsum(\"ij,ik->jik\", a, b)\n",
    "    if transposed:\n",
    "        res = res.transpose(1, 0, 2)\n",
    "    \n",
    "    return res\n",
    "\n",
    "\n",
    "def bptt(cell, x, y):\n",
    "    states, outputs = static_rnn(x, cell)\n",
    "    outputs = softmax(outputs)\n",
    "    outputs = np.transpose(outputs, (1, 0, 2))\n",
    "    \n",
    "    batch_size = y.shape[0]\n",
    "    step_size = y.shape[1]\n",
    "    dLdV = np.zeros((8000, 128))\n",
    "    dLdU = np.zeros((128, 128))\n",
    "    dLdW = np.zeros((128, 300))\n",
    "\n",
    "    for i in reversed(range(step_size)):\n",
    "        logits_step = outputs[:, i]\n",
    "        labels_step = y[:, i]\n",
    "        \n",
    "        one_hot_labels = one_hot(labels_step, vocab_size)\n",
    "        delta_o = logits_step - one_hot_labels\n",
    "        \n",
    "        temp_dLdV = extended_np_outer(delta_o, states[i])\n",
    "        dLdV += np.sum(temp_dLdV, axis=0)\n",
    "        \n",
    "        delta = delta_o.dot(cell.V) * (1-states[i]**2)\n",
    "        print(delta.shape)\n",
    "        for j in reversed(range(i)):\n",
    "            input_step = x[:, j]\n",
    "            \n",
    "            temp_dLdW = extended_np_outer(delta, input_step)\n",
    "            dLdW += np.sum(temp_dLdW, axis=0)\n",
    "            \n",
    "#             temp_dLdU = \n",
    "\n",
    "            print()\n",
    "            print(delta.dot(cell.U).shape, (1-states[j-1]**2).shape)\n",
    "            print((delta.dot(cell.U) * (1-states[j-1]**2)).shape)\n",
    "#             delta = \n",
    "            \n",
    "    return (dLdV, dLdU, dLdW)"
   ]
  },
  {
   "cell_type": "code",
   "execution_count": 69,
   "metadata": {},
   "outputs": [
    {
     "name": "stdout",
     "output_type": "stream",
     "text": [
      "(2, 128)\n",
      "(2, 128) (2, 128)\n",
      "(2, 128)\n",
      "(2, 128) (2, 128)\n",
      "(2, 128)\n",
      "(2, 128) (2, 128)\n",
      "(2, 128)\n",
      "(2, 128) (2, 128)\n",
      "(2, 128)\n",
      "(2, 128)\n",
      "(2, 128) (2, 128)\n",
      "(2, 128)\n",
      "(2, 128) (2, 128)\n",
      "(2, 128)\n",
      "(2, 128) (2, 128)\n",
      "(2, 128)\n",
      "(2, 128)\n",
      "(2, 128) (2, 128)\n",
      "(2, 128)\n",
      "(2, 128) (2, 128)\n",
      "(2, 128)\n",
      "(2, 128)\n",
      "(2, 128) (2, 128)\n",
      "(2, 128)\n",
      "(2, 128)\n"
     ]
    },
    {
     "data": {
      "text/plain": [
       "(array([[ 0.73401467,  0.69193248,  0.60393763, ...,  0.54324532,\n",
       "          0.6620102 ,  0.58471198],\n",
       "        [ 0.73504696,  0.69365045,  0.60668223, ...,  0.54637628,\n",
       "          0.6640904 ,  0.58715706],\n",
       "        [ 0.73380767,  0.69158799,  0.60338727, ...,  0.54261749,\n",
       "          0.66159307,  0.58422168],\n",
       "        ..., \n",
       "        [ 0.73214296,  0.68881753,  0.59896122, ...,  0.53756838,\n",
       "          0.65823848,  0.58027866],\n",
       "        [ 0.73365085,  0.69132701,  0.60297033, ...,  0.54214185,\n",
       "          0.66127706,  0.58385024],\n",
       "        [ 0.73503187,  0.69362534,  0.60664212, ...,  0.54633052,\n",
       "          0.66406   ,  0.58712133]]),\n",
       " array([[ 0.,  0.,  0., ...,  0.,  0.,  0.],\n",
       "        [ 0.,  0.,  0., ...,  0.,  0.,  0.],\n",
       "        [ 0.,  0.,  0., ...,  0.,  0.,  0.],\n",
       "        ..., \n",
       "        [ 0.,  0.,  0., ...,  0.,  0.,  0.],\n",
       "        [ 0.,  0.,  0., ...,  0.,  0.,  0.],\n",
       "        [ 0.,  0.,  0., ...,  0.,  0.,  0.]]),\n",
       " array([[-0.00226656,  0.00140709, -0.00259791, ...,  0.00364207,\n",
       "         -0.00323523, -0.00229894],\n",
       "        [-0.00249785,  0.00155068, -0.00286299, ...,  0.00401359,\n",
       "         -0.00356532, -0.00253376],\n",
       "        [-0.00534916,  0.00332143, -0.00613093, ...,  0.0085954 ,\n",
       "         -0.00763465, -0.00542436],\n",
       "        ..., \n",
       "        [-0.0026651 ,  0.00165473, -0.00305467, ...,  0.00428238,\n",
       "         -0.00380393, -0.002703  ],\n",
       "        [-0.00226867,  0.00140881, -0.0026011 , ...,  0.00364509,\n",
       "         -0.00323903, -0.00230267],\n",
       "        [-0.00527494,  0.00327552, -0.00604583, ...,  0.00847634,\n",
       "         -0.00752862, -0.00534848]]))"
      ]
     },
     "execution_count": 69,
     "metadata": {},
     "output_type": "execute_result"
    }
   ],
   "source": [
    "bptt(rnn_cell, \n",
    "     np.random.normal(size=(2, 5, 300)),\n",
    "     np.random.randint(low=0, high=vocab_size, size=(2, 5)))"
   ]
  },
  {
   "cell_type": "code",
   "execution_count": 71,
   "metadata": {},
   "outputs": [
    {
     "name": "stdout",
     "output_type": "stream",
     "text": [
      "[-0.73362399  1.01339841 -0.95847885 -1.78865093 -2.62838142  0.30725184\n",
      " -0.45430749  0.46055727 -0.42318214 -1.06245328]\n",
      "[ -3.66811995   5.06699203  -4.79239423  -8.94325465 -13.14190712\n",
      "   1.53625919  -2.27153745   2.30278637  -2.11591068  -5.3122664 ]\n",
      "[[ -3.66811995   5.06699203  -4.79239423  -8.94325465 -13.14190712\n",
      "    1.53625919  -2.27153745   2.30278637  -2.11591068  -5.3122664 ]]\n"
     ]
    }
   ],
   "source": [
    "a = 5\n",
    "b = np.random.normal(size=(10))\n",
    "\n",
    "print(b)\n",
    "print(a * b)\n",
    "print(np.outer(a, b))"
   ]
  },
  {
   "cell_type": "code",
   "execution_count": null,
   "metadata": {},
   "outputs": [],
   "source": []
  }
 ],
 "metadata": {
  "kernelspec": {
   "display_name": "Python 3",
   "language": "python",
   "name": "python3"
  },
  "language_info": {
   "codemirror_mode": {
    "name": "ipython",
    "version": 3
   },
   "file_extension": ".py",
   "mimetype": "text/x-python",
   "name": "python",
   "nbconvert_exporter": "python",
   "pygments_lexer": "ipython3",
   "version": "3.6.3"
  }
 },
 "nbformat": 4,
 "nbformat_minor": 2
}
